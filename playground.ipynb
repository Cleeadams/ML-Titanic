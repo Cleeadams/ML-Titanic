{
 "cells": [
  {
   "cell_type": "code",
   "execution_count": null,
   "metadata": {},
   "outputs": [],
   "source": [
    "import polars as pl\n",
    "import pandas as pd"
   ]
  },
  {
   "cell_type": "code",
   "execution_count": null,
   "metadata": {},
   "outputs": [],
   "source": [
    "df = pl.read_csv(\"./train.csv\")"
   ]
  },
  {
   "cell_type": "markdown",
   "metadata": {},
   "source": [
    "# Data Cleaning"
   ]
  },
  {
   "cell_type": "code",
   "execution_count": null,
   "metadata": {},
   "outputs": [],
   "source": [
    "df2 = df.with_columns(\n",
    "    pl.col(\"Name\").map_elements(lambda x: x.split(', ')[0]).alias('Last'),\n",
    "    pl.col(\"Name\").map_elements(lambda x: x.split(', ')[1].split('. ')[1]).alias('First'),\n",
    "    pl.col(\"Name\").map_elements(lambda x: x.split(', ')[1].split('. ')[0]).alias('Sfx'),\n",
    "    pl.col(\"Name\").map_elements(lambda x: x.split(', ')[1].split('. ')[1].split('(')[-1].split(')')[0] if '(' in x else None).alias('Second Name')\n",
    "    )"
   ]
  },
  {
   "cell_type": "code",
   "execution_count": null,
   "metadata": {},
   "outputs": [],
   "source": [
    "df3 = df2.with_columns(\n",
    "    pl.when(pl.col('Second Name').is_null()).then(0).otherwise(1).alias('Has Second Name'),\n",
    "    pl.col('Age').map_elements(lambda x: 1 if x >= 18 else 0).alias('Adult')\n",
    ")"
   ]
  },
  {
   "cell_type": "code",
   "execution_count": null,
   "metadata": {},
   "outputs": [],
   "source": [
    "df3"
   ]
  },
  {
   "cell_type": "markdown",
   "metadata": {},
   "source": [
    "# Predict Age of Passengers\n",
    "\n",
    "#### Useful Attributes to Predict Age\n",
    "- Parch\n",
    "- Sfx\n",
    "- Has Second Name\n",
    "- Fare\n",
    "- Pclass"
   ]
  },
  {
   "cell_type": "code",
   "execution_count": null,
   "metadata": {},
   "outputs": [],
   "source": [
    "# Filter df to only ages\n",
    "passengers_with_ages = df3.filter(~pl.col(\"Age\").is_null())"
   ]
  },
  {
   "cell_type": "code",
   "execution_count": null,
   "metadata": {},
   "outputs": [],
   "source": [
    "passengers_with_ages_y = passengers_with_ages.select(['Age'])\n",
    "passengers_with_ages_X_cols = ['Parch', 'Sfx', 'Has Second Name', 'Fare', 'Pclass']\n",
    "passengers_with_ages_X = passengers_with_ages.select(passengers_with_ages_X_cols)"
   ]
  },
  {
   "cell_type": "code",
   "execution_count": null,
   "metadata": {},
   "outputs": [],
   "source": [
    "passengers_with_ages_X = passengers_with_ages_X.to_pandas()\n",
    "passengers_with_ages_y = passengers_with_ages_y.to_pandas()\n",
    "\n",
    "passengers_with_ages_X = pd.get_dummies(data=passengers_with_ages_X, drop_first=True)"
   ]
  },
  {
   "cell_type": "code",
   "execution_count": null,
   "metadata": {},
   "outputs": [],
   "source": [
    "from sklearn.metrics import mean_squared_error, r2_score\n",
    "from sklearn.model_selection import train_test_split\n",
    "from sklearn import linear_model\n",
    "import matplotlib.pyplot as plt"
   ]
  },
  {
   "cell_type": "code",
   "execution_count": null,
   "metadata": {},
   "outputs": [],
   "source": [
    "# Randomly sample 95% for training while the reset will be for testing.\n",
    "ages_X_train, ages_X_test, ages_y_train, ages_y_test = train_test_split(passengers_with_ages_X, passengers_with_ages_y, test_size=0.1, random_state=42)"
   ]
  },
  {
   "cell_type": "code",
   "execution_count": null,
   "metadata": {},
   "outputs": [],
   "source": [
    "ages_X_test"
   ]
  },
  {
   "cell_type": "code",
   "execution_count": null,
   "metadata": {},
   "outputs": [],
   "source": [
    "reg = linear_model.LinearRegression()"
   ]
  },
  {
   "cell_type": "code",
   "execution_count": null,
   "metadata": {},
   "outputs": [],
   "source": [
    "reg.fit(X=ages_X_train, y=ages_y_train)"
   ]
  },
  {
   "cell_type": "code",
   "execution_count": null,
   "metadata": {},
   "outputs": [],
   "source": [
    "reg.coef_"
   ]
  },
  {
   "cell_type": "code",
   "execution_count": null,
   "metadata": {},
   "outputs": [],
   "source": [
    "ages_y_predict = reg.predict(ages_X_test)"
   ]
  },
  {
   "cell_type": "code",
   "execution_count": null,
   "metadata": {},
   "outputs": [],
   "source": [
    "# The mean squared error\n",
    "print(\"Mean squared error: %.2f\" % mean_squared_error(ages_y_test, ages_y_predict))\n",
    "# The coefficient of determination: 1 is perfect prediction\n",
    "print(\"Coefficient of determination: %.2f\" % r2_score(ages_y_test, ages_y_predict))"
   ]
  },
  {
   "cell_type": "code",
   "execution_count": null,
   "metadata": {},
   "outputs": [],
   "source": [
    "# Plot outputs\n",
    "plt.scatter(ages_y_test, ages_y_predict, color=\"black\")\n",
    "# plt.plot(ages_X_test['Fare'], ages_y_predict, color=\"blue\", linewidth=3)\n",
    "\n",
    "plt.xticks(())\n",
    "plt.yticks(())\n",
    "\n",
    "plt.show()"
   ]
  },
  {
   "cell_type": "code",
   "execution_count": null,
   "metadata": {},
   "outputs": [],
   "source": []
  }
 ],
 "metadata": {
  "kernelspec": {
   "display_name": "venv",
   "language": "python",
   "name": "python3"
  },
  "language_info": {
   "codemirror_mode": {
    "name": "ipython",
    "version": 3
   },
   "file_extension": ".py",
   "mimetype": "text/x-python",
   "name": "python",
   "nbconvert_exporter": "python",
   "pygments_lexer": "ipython3",
   "version": "3.12.0"
  }
 },
 "nbformat": 4,
 "nbformat_minor": 2
}
